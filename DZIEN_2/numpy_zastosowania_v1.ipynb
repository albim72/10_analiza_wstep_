{
 "cells":[
  {
   "cell_type":"code",
   "source":[
    "import numpy as np\n",
    "import matplotlib.pyplot as plt"
   ],
   "execution_count":1,
   "outputs":[],
   "metadata":{
    "datalore":{
     "node_id":"dwPVXwjOe2cfnQ3R7HoPiI",
     "type":"CODE",
     "hide_input_from_viewers":true,
     "hide_output_from_viewers":true
    }
   }
  },
  {
   "cell_type":"markdown",
   "source":[
    "# Analiza wyników prac zaliczeniowych studentów "
   ],
   "attachments":{},
   "metadata":{
    "datalore":{
     "node_id":"qFyKEwDXXNYgsTWhq1apdu",
     "type":"MD",
     "hide_input_from_viewers":true,
     "hide_output_from_viewers":true
    }
   }
  },
  {
   "cell_type":"code",
   "source":[
    "np.random.seed(42)\n",
    "wyniki = np.random.randint(0,101,size=30)"
   ],
   "execution_count":2,
   "outputs":[],
   "metadata":{
    "datalore":{
     "node_id":"QMuCieI6oYQBCB6hR1ilIf",
     "type":"CODE",
     "hide_input_from_viewers":true,
     "hide_output_from_viewers":true
    }
   }
  },
  {
   "cell_type":"code",
   "source":[
    "srednia = np.mean(wyniki)\n",
    "mediana = np.median(wyniki)\n",
    "odchylenie_std = np.std(wyniki)"
   ],
   "execution_count":3,
   "outputs":[],
   "metadata":{
    "datalore":{
     "node_id":"XBwwhSIuNR1N1gvVofLiUb",
     "type":"CODE",
     "hide_input_from_viewers":true,
     "hide_output_from_viewers":true
    }
   }
  },
  {
   "cell_type":"code",
   "source":[
    "print(f\"wyniki studentów: {wyniki}\")\n",
    "print(f\"średnia wyników: {srednia:.2f}\")\n",
    "print(f\"mediana wyników: {mediana:.2f}\")\n",
    "print(f\"odchylenie standardowe: {odchylenie_std:.2f}\")"
   ],
   "execution_count":4,
   "outputs":[
    {
     "name":"stdout",
     "text":[
      "wyniki studentów: [51 92 14 71 60 20 82 86 74 74 87 99 23  2 21 52  1 87 29 37  1 63 59 20\n",
      " 32 75 57 21 88 48]\n",
      "średnia wyników: 50.87\n",
      "mediana wyników: 54.50\n",
      "odchylenie standardowe: 29.90\n"
     ],
     "output_type":"stream"
    }
   ],
   "metadata":{
    "datalore":{
     "node_id":"FLBIFG2BR6sTO2p0vQ5QmE",
     "type":"CODE",
     "hide_input_from_viewers":true,
     "hide_output_from_viewers":true
    }
   }
  },
  {
   "cell_type":"code",
   "source":[
    "#tworzenie histogramu\n",
    "plt.hist(wyniki,bins=10,edgecolor='black',alpha=0.7)\n",
    "plt.title('Histogram wyników testów z programowania w Pythonie')\n",
    "plt.xlabel('Wyniki')\n",
    "plt.ylabel('Liczba studentów')\n",
    "plt.axvline(srednia,color='red',linestyle='dashed',linewidth=1, label='Średnia')\n",
    "plt.axvline(mediana,color='green',linestyle='dashed',linewidth=1, label='Mediana')\n",
    "plt.legend()\n",
    "plt.grid()\n",
    "plt.show()"
   ],
   "execution_count":5,
   "outputs":[
    {
     "data":{
      "image\/png":"[encoded data removed]"
     },
     "metadata":{
      "image\/png":{}
     },
     "output_type":"display_data"
    }
   ],
   "metadata":{
    "datalore":{
     "node_id":"RZVPIxBXIB7K8dTV8WT0Sg",
     "type":"CODE",
     "hide_input_from_viewers":true,
     "hide_output_from_viewers":true
    }
   }
  }
 ],
 "metadata":{
  "kernelspec":{
   "display_name":"Python",
   "language":"python",
   "name":"python"
  },
  "datalore":{
   "computation_mode":"JUPYTER",
   "package_manager":"pip",
   "base_environment":"default",
   "packages":[],
   "report_row_ids":[],
   "version":3
  }
 },
 "nbformat":4,
 "nbformat_minor":4
}