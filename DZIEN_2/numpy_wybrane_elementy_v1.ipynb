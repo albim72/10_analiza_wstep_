{
 "cells":[
  {
   "cell_type":"code",
   "source":[
    "import numpy as np\n",
    "import math"
   ],
   "execution_count":3,
   "outputs":[],
   "metadata":{
    "datalore":{
     "node_id":"t0bFn9HdsWUCirdpjLhYz6",
     "type":"CODE",
     "hide_input_from_viewers":true,
     "hide_output_from_viewers":true
    }
   }
  },
  {
   "cell_type":"code",
   "source":[
    "c = np.array([45,3,8,2,7,24])\n",
    "lp = [4,2,5,25]"
   ],
   "execution_count":2,
   "outputs":[],
   "metadata":{
    "datalore":{
     "node_id":"oPnNA6spMwuOX4fVPMEHJc",
     "type":"CODE",
     "hide_input_from_viewers":true,
     "hide_output_from_viewers":true
    }
   }
  },
  {
   "cell_type":"code",
   "source":[
    "z = 7\n",
    "math.sqrt(z)"
   ],
   "execution_count":4,
   "outputs":[
    {
     "data":{
      "text\/plain":[
       "2.6457513110645907"
      ]
     },
     "metadata":{},
     "output_type":"display_data"
    }
   ],
   "metadata":{
    "datalore":{
     "node_id":"fSB5Co5EsjfJ72oqQpP6qH",
     "type":"CODE",
     "hide_input_from_viewers":true,
     "hide_output_from_viewers":true
    }
   }
  },
  {
   "cell_type":"code",
   "source":[
    "# math.sqrt(lp)\n",
    "\n",
    "for wr in lp:\n",
    "    print(math.sqrt(wr))"
   ],
   "execution_count":7,
   "outputs":[
    {
     "name":"stdout",
     "text":[
      "2.0\n",
      "1.4142135623730951\n",
      "2.23606797749979\n",
      "5.0\n"
     ],
     "output_type":"stream"
    }
   ],
   "metadata":{
    "datalore":{
     "node_id":"w0OybWCqOxUM2g7ahpF21b",
     "type":"CODE",
     "hide_input_from_viewers":true,
     "hide_output_from_viewers":true
    }
   }
  },
  {
   "cell_type":"code",
   "source":[
    "np.sqrt(c)"
   ],
   "execution_count":8,
   "outputs":[
    {
     "data":{
      "text\/html":[
       "<pre>array([6.70820393, 1.73205081, 2.82842712, 1.41421356, 2.64575131,\n",
       "       4.89897949])<\/pre>"
      ]
     },
     "metadata":{},
     "output_type":"display_data"
    }
   ],
   "metadata":{
    "datalore":{
     "node_id":"vEoGziLO59e5FtSVnBdTYG",
     "type":"CODE",
     "hide_input_from_viewers":true,
     "hide_output_from_viewers":true
    }
   }
  },
  {
   "cell_type":"code",
   "source":[
    "np.sqrt(lp)"
   ],
   "execution_count":9,
   "outputs":[
    {
     "data":{
      "text\/html":[
       "<pre>array([2.        , 1.41421356, 2.23606798, 5.        ])<\/pre>"
      ]
     },
     "metadata":{},
     "output_type":"display_data"
    }
   ],
   "metadata":{
    "datalore":{
     "node_id":"5hxNcIUKzXfAvHeR5BFNqy",
     "type":"CODE",
     "hide_input_from_viewers":true,
     "hide_output_from_viewers":true
    }
   }
  },
  {
   "cell_type":"code",
   "source":[
    "np.sinc(c)"
   ],
   "execution_count":10,
   "outputs":[
    {
     "data":{
      "text\/html":[
       "<pre>array([ 1.38514097e-17,  3.89817183e-17, -3.89817183e-17, -3.89817183e-17,\n",
       "        3.89817183e-17, -3.89817183e-17])<\/pre>"
      ]
     },
     "metadata":{},
     "output_type":"display_data"
    }
   ],
   "metadata":{
    "datalore":{
     "node_id":"A8uaKJjq57dLwVD3bvIp8B",
     "type":"CODE",
     "hide_input_from_viewers":true,
     "hide_output_from_viewers":true
    }
   }
  },
  {
   "cell_type":"code",
   "source":[
    "#utwórz macierz w wymiarze (3,5) poprzez wygenerowanie wartości dla tej macierzy"
   ],
   "execution_count":null,
   "outputs":[],
   "metadata":{
    "datalore":{
     "node_id":"S1GAJVMtK3zgwehK04djTB",
     "type":"CODE",
     "hide_input_from_viewers":true,
     "hide_output_from_viewers":true
    }
   }
  },
  {
   "cell_type":"code",
   "source":[
    "arr = np.arange(15).reshape((3,5))\n",
    "arr"
   ],
   "execution_count":11,
   "outputs":[
    {
     "data":{
      "text\/html":[
       "<pre>array([[ 0,  1,  2,  3,  4],\n",
       "       [ 5,  6,  7,  8,  9],\n",
       "       [10, 11, 12, 13, 14]])<\/pre>"
      ]
     },
     "metadata":{},
     "output_type":"display_data"
    }
   ],
   "metadata":{
    "datalore":{
     "node_id":"EfYnM8p1oEGdEBNCeLtutK",
     "type":"CODE",
     "hide_input_from_viewers":true,
     "hide_output_from_viewers":true
    }
   }
  },
  {
   "cell_type":"code",
   "source":[
    "arr.T"
   ],
   "execution_count":13,
   "outputs":[
    {
     "data":{
      "text\/html":[
       "<pre>array([[ 0,  5, 10],\n",
       "       [ 1,  6, 11],\n",
       "       [ 2,  7, 12],\n",
       "       [ 3,  8, 13],\n",
       "       [ 4,  9, 14]])<\/pre>"
      ]
     },
     "metadata":{},
     "output_type":"display_data"
    }
   ],
   "metadata":{
    "datalore":{
     "node_id":"8c4ACvHOpv9RKTjE6Q8veE",
     "type":"CODE",
     "hide_input_from_viewers":true,
     "hide_output_from_viewers":true
    }
   }
  },
  {
   "cell_type":"code",
   "source":[
    "arr =np.random.randn(6,3)\n",
    "arr"
   ],
   "execution_count":14,
   "outputs":[
    {
     "data":{
      "text\/html":[
       "<pre>array([[-0.20968362,  2.18515198,  0.10445535],\n",
       "       [ 0.42033165, -1.43026473,  1.00122306],\n",
       "       [ 1.22637595,  0.17831999, -0.5514244 ],\n",
       "       [ 0.16165188, -1.00357622,  0.20475206],\n",
       "       [ 0.93031962, -0.03716505, -0.46487211],\n",
       "       [-0.23877084, -0.63956172, -0.58386358]])<\/pre>"
      ]
     },
     "metadata":{},
     "output_type":"display_data"
    }
   ],
   "metadata":{
    "datalore":{
     "node_id":"r9YhmkTyq6cih4qi5HwnHn",
     "type":"CODE",
     "hide_input_from_viewers":true,
     "hide_output_from_viewers":true
    }
   }
  },
  {
   "cell_type":"code",
   "source":[
    "arr.T"
   ],
   "execution_count":15,
   "outputs":[
    {
     "data":{
      "text\/html":[
       "<pre>array([[-0.20968362,  0.42033165,  1.22637595,  0.16165188,  0.93031962,\n",
       "        -0.23877084],\n",
       "       [ 2.18515198, -1.43026473,  0.17831999, -1.00357622, -0.03716505,\n",
       "        -0.63956172],\n",
       "       [ 0.10445535,  1.00122306, -0.5514244 ,  0.20475206, -0.46487211,\n",
       "        -0.58386358]])<\/pre>"
      ]
     },
     "metadata":{},
     "output_type":"display_data"
    }
   ],
   "metadata":{
    "datalore":{
     "node_id":"UY78J6SoaMRv4kEppIONyF",
     "type":"CODE",
     "hide_input_from_viewers":true,
     "hide_output_from_viewers":true
    }
   }
  },
  {
   "cell_type":"code",
   "source":[
    "np.dot(arr.T,arr)"
   ],
   "execution_count":16,
   "outputs":[
    {
     "data":{
      "text\/html":[
       "<pre>array([[ 2.67328134, -0.88478543, -0.53728196],\n",
       "       [-0.88478543,  8.26993006, -1.11688371],\n",
       "       [-0.53728196, -1.11688371,  1.91635356]])<\/pre>"
      ]
     },
     "metadata":{},
     "output_type":"display_data"
    }
   ],
   "metadata":{
    "datalore":{
     "node_id":"vzMk7NN3u9Q3m4PDc1NxRK",
     "type":"CODE",
     "hide_input_from_viewers":true,
     "hide_output_from_viewers":true
    }
   }
  },
  {
   "cell_type":"code",
   "source":[
    "a = np.array([[1,2],[3,4]])\n",
    "b = np.array([5,6])\n",
    "\n",
    "result = np.dot(a,b)\n",
    "result"
   ],
   "execution_count":18,
   "outputs":[
    {
     "data":{
      "text\/html":[
       "<pre>array([17, 39])<\/pre>"
      ]
     },
     "metadata":{},
     "output_type":"display_data"
    }
   ],
   "metadata":{
    "datalore":{
     "node_id":"5NOJZmhBNnqBNY4HIyuVL9",
     "type":"CODE",
     "hide_input_from_viewers":true,
     "hide_output_from_viewers":true
    }
   }
  },
  {
   "cell_type":"markdown",
   "source":[
    "wynik iloczyny skalarnego a x b\n",
    "[1*5+2*6,3*5+4*6] = [17,39]"
   ],
   "attachments":{},
   "metadata":{
    "datalore":{
     "node_id":"Om0ZVhHNN8c1DDEH4KT727",
     "type":"MD",
     "hide_input_from_viewers":true,
     "hide_output_from_viewers":true
    }
   }
  },
  {
   "cell_type":"code",
   "source":[
    "#jak zbudowac tensor?\n",
    "arr = np.arange(16).reshape((2,2,4))\n",
    "arr"
   ],
   "execution_count":19,
   "outputs":[
    {
     "data":{
      "text\/plain":[
       "array([[[ 0,  1,  2,  3],\n",
       "        [ 4,  5,  6,  7]],\n",
       "\n",
       "       [[ 8,  9, 10, 11],\n",
       "        [12, 13, 14, 15]]])"
      ]
     },
     "metadata":{},
     "output_type":"display_data"
    }
   ],
   "metadata":{
    "datalore":{
     "node_id":"XMvxaai8BxUJcZRkzRsX1D",
     "type":"CODE",
     "hide_input_from_viewers":true,
     "hide_output_from_viewers":true
    }
   }
  },
  {
   "cell_type":"code",
   "source":[
    "arlos = np.random.rand(3,6,3)\n",
    "arlos"
   ],
   "execution_count":21,
   "outputs":[
    {
     "data":{
      "text\/plain":[
       "array([[[6.70806031e-01, 9.34239432e-01, 6.76226311e-01],\n",
       "        [5.16076651e-01, 8.87670058e-01, 7.48597511e-01],\n",
       "        [4.16164458e-01, 6.33562730e-01, 2.59911270e-01],\n",
       "        [7.38662141e-01, 9.27826982e-01, 9.65982798e-01],\n",
       "        [9.01238564e-01, 1.41373052e-01, 8.76496800e-01],\n",
       "        [4.51557717e-01, 8.12850427e-01, 6.38578774e-01]],\n",
       "\n",
       "       [[6.71256998e-01, 4.19632969e-01, 2.87537169e-01],\n",
       "        [2.70929999e-01, 5.36353847e-01, 8.32465965e-01],\n",
       "        [4.36768305e-01, 9.73835067e-02, 9.67128326e-01],\n",
       "        [1.34927257e-01, 1.93057238e-01, 7.66441119e-01],\n",
       "        [5.76423705e-02, 4.56531256e-01, 2.76733128e-02],\n",
       "        [1.13785334e-01, 7.73130169e-01, 4.60959383e-01]],\n",
       "\n",
       "       [[8.40535304e-01, 9.36067789e-01, 4.51010305e-02],\n",
       "        [9.33162688e-01, 3.06878173e-01, 5.31186245e-04],\n",
       "        [5.05842434e-01, 9.15770883e-01, 2.86567128e-02],\n",
       "        [1.49305065e-01, 1.75296714e-01, 9.79519287e-02],\n",
       "        [9.54792974e-02, 2.98561637e-01, 4.42982662e-01],\n",
       "        [3.45269155e-01, 7.74815518e-01, 6.96328958e-01]]])"
      ]
     },
     "metadata":{},
     "output_type":"display_data"
    }
   ],
   "metadata":{
    "datalore":{
     "node_id":"67X85Xp0kCd1dGbJpelARw",
     "type":"CODE",
     "hide_input_from_viewers":true,
     "hide_output_from_viewers":true
    }
   }
  },
  {
   "cell_type":"code",
   "source":[
    "#zbuduj dwa tensory o kształcie kostki Rubika (3x3x3) -  losując dane \n",
    "#wykonaj mnożenie tych tensorów i wyświetl wynik\n",
    "\n",
    "# Tworzenie dwóch losowych tensorów o kształcie (3, 3, 3)\n",
    "tensor1 = np.random.rand(3, 3, 3)\n",
    "tensor2 = np.random.rand(3, 3, 3)\n",
    "\n",
    "# Mnożenie tensorów\n",
    "result = np.einsum('ijk,ikl->ijl', tensor1, tensor2)\n",
    "\n",
    "# Wyświetlenie tensorów i wyniku\n",
    "print(\"Tensor 1:\")\n",
    "print(tensor1)\n",
    "\n",
    "print(\"\\nTensor 2:\")\n",
    "print(tensor2)\n",
    "\n",
    "print(\"\\nWynik mnożenia tensorów:\")\n",
    "print(result)"
   ],
   "execution_count":23,
   "outputs":[
    {
     "name":"stdout",
     "text":[
      "Tensor 1:\n",
      "[[[0.47466277 0.36383956 0.27325712]\n",
      "  [0.33225486 0.7356162  0.74521896]\n",
      "  [0.20499317 0.69786811 0.6633395 ]]\n",
      "\n",
      " [[0.16277652 0.43258595 0.48918885]\n",
      "  [0.2111215  0.8623825  0.18548738]\n",
      "  [0.93597162 0.46167747 0.31156733]]\n",
      "\n",
      " [[0.2893515  0.08388582 0.60385675]\n",
      "  [0.67191073 0.38684501 0.84011449]\n",
      "  [0.94410906 0.20760885 0.00581043]]]\n",
      "\n",
      "Tensor 2:\n",
      "[[[0.14842641 0.67183088 0.86341559]\n",
      "  [0.0040577  0.02870166 0.76364849]\n",
      "  [0.72565544 0.7096696  0.98335603]]\n",
      "\n",
      " [[0.75258088 0.65204348 0.74997058]\n",
      "  [0.14582382 0.31492115 0.07295196]\n",
      "  [0.25507796 0.29239057 0.79526968]]\n",
      "\n",
      " [[0.87328657 0.85819057 0.83976043]\n",
      "  [0.95361751 0.307219   0.78621938]\n",
      "  [0.87416164 0.30514344 0.37120998]]]\n",
      "\n",
      "Wynik mnożenia tensorów:\n",
      "[[[0.27021936 0.52325818 0.95638581]\n",
      "  [0.59307249 0.77319171 1.58144178]\n",
      "  [0.51461405 0.62850259 1.36221912]]\n",
      "\n",
      " [[0.31036512 0.38540204 0.54267265]\n",
      "  [0.33195566 0.46347765 0.3687599 ]\n",
      "  [0.85119188 0.84678555 0.98341151]]\n",
      "\n",
      " [[0.86055017 0.45835297 0.53309625]\n",
      "  [1.69006865 0.95182901 1.18024797]\n",
      "  [1.02753645 0.87577988 0.95820841]]]\n"
     ],
     "output_type":"stream"
    }
   ],
   "metadata":{
    "datalore":{
     "node_id":"SOb1n6HWvDAl9SPJ1atx5u",
     "type":"CODE",
     "hide_input_from_viewers":true,
     "hide_output_from_viewers":true
    }
   }
  },
  {
   "cell_type":"code",
   "source":[
    "tensor1 = np.random.rand(3, 3, 3)\n",
    "tensor2 = np.random.rand(3, 3, 3)\n",
    "\n",
    "t = tensor1*tensor2\n",
    "\n",
    "t"
   ],
   "execution_count":24,
   "outputs":[
    {
     "data":{
      "text\/plain":[
       "array([[[1.54711346e-01, 7.92464188e-01, 2.60322861e-02],\n",
       "        [5.76800741e-01, 5.29815254e-02, 2.49109104e-02],\n",
       "        [2.92804065e-01, 1.36058753e-01, 5.97759243e-02]],\n",
       "\n",
       "       [[9.09693384e-02, 1.77840276e-01, 2.17256707e-01],\n",
       "        [3.11358853e-02, 1.39665756e-01, 8.26042630e-02],\n",
       "        [5.82813118e-02, 1.62091903e-01, 5.64976606e-01]],\n",
       "\n",
       "       [[5.79445527e-01, 1.64963113e-01, 3.84781458e-01],\n",
       "        [2.39317990e-01, 3.40099482e-04, 1.59869947e-01],\n",
       "        [4.77852107e-01, 5.49881199e-01, 1.28262286e-01]]])"
      ]
     },
     "metadata":{},
     "output_type":"display_data"
    }
   ],
   "metadata":{
    "datalore":{
     "node_id":"ntRlt6FqIBMjI7ImtOZDCN",
     "type":"CODE",
     "hide_input_from_viewers":true,
     "hide_output_from_viewers":true
    }
   }
  }
 ],
 "metadata":{
  "kernelspec":{
   "display_name":"Python",
   "language":"python",
   "name":"python"
  },
  "datalore":{
   "computation_mode":"JUPYTER",
   "package_manager":"pip",
   "base_environment":"default",
   "packages":[],
   "report_row_ids":[],
   "version":3
  }
 },
 "nbformat":4,
 "nbformat_minor":4
}