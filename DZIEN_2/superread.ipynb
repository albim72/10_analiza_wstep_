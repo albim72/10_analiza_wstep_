{
 "cells":[
  {
   "cell_type":"code",
   "source":[
    "import pandas as pd"
   ],
   "execution_count":1,
   "outputs":[],
   "metadata":{
    "datalore":{
     "node_id":"P63utjMr9BxZuNIDKyrdwt",
     "type":"CODE",
     "hide_input_from_viewers":true,
     "hide_output_from_viewers":true
    }
   }
  },
  {
   "cell_type":"code",
   "source":[
    "file_path = 'super_dane.csv'\n",
    "df = pd.read_csv(file_path)\n",
    "\n",
    "print(f\"pierwsze 3 wiersze:\\n {df.head(3)}\")"
   ],
   "execution_count":3,
   "outputs":[
    {
     "name":"stdout",
     "text":[
      "pierwsze 3 wiersze:\n",
      "    ID Kategoria  Wartość  Liczba\n",
      "0   1         A       15     100\n",
      "1   2         B       25     150\n",
      "2   3         A       10      90\n"
     ],
     "output_type":"stream"
    }
   ],
   "metadata":{
    "datalore":{
     "node_id":"oium6G10A08IAG5gC03zzn",
     "type":"CODE",
     "hide_input_from_viewers":true,
     "hide_output_from_viewers":true
    }
   }
  },
  {
   "cell_type":"code",
   "source":[
    "print(f\"informacje o danych: {df.info()}\")"
   ],
   "execution_count":4,
   "outputs":[
    {
     "name":"stdout",
     "text":[
      "<class 'pandas.core.frame.DataFrame'>\n",
      "RangeIndex: 5 entries, 0 to 4\n",
      "Data columns (total 4 columns):\n",
      " #   Column     Non-Null Count  Dtype \n",
      "---  ------     --------------  ----- \n",
      " 0   ID         5 non-null      int64 \n",
      " 1   Kategoria  5 non-null      object\n",
      " 2   Wartość    5 non-null      int64 \n",
      " 3   Liczba     5 non-null      int64 \n",
      "dtypes: int64(3), object(1)\n",
      "memory usage: 288.0+ bytes\n",
      "informacje o danych: None\n"
     ],
     "output_type":"stream"
    }
   ],
   "metadata":{
    "datalore":{
     "node_id":"7lDzWMp3N7mwclEkyBdTLx",
     "type":"CODE",
     "hide_input_from_viewers":true,
     "hide_output_from_viewers":true
    }
   }
  },
  {
   "cell_type":"code",
   "source":[
    "print(\"statystyki opisowe:\\n\")\n",
    "print(df.describe())"
   ],
   "execution_count":5,
   "outputs":[
    {
     "name":"stdout",
     "text":[
      "statystyki opisowe:\n",
      "\n",
      "             ID    Wartość      Liczba\n",
      "count  5.000000   5.000000    5.000000\n",
      "mean   3.000000  24.000000  114.000000\n",
      "std    1.581139  11.937336   23.021729\n",
      "min    1.000000  10.000000   90.000000\n",
      "25%    2.000000  15.000000  100.000000\n",
      "50%    3.000000  25.000000  110.000000\n",
      "75%    4.000000  30.000000  120.000000\n",
      "max    5.000000  40.000000  150.000000\n"
     ],
     "output_type":"stream"
    }
   ],
   "metadata":{
    "datalore":{
     "node_id":"lX8RIsgooNG4auxvkoRjV6",
     "type":"CODE",
     "hide_input_from_viewers":true,
     "hide_output_from_viewers":true
    }
   }
  },
  {
   "cell_type":"code",
   "source":[
    "#filtrowanie dnych\n",
    "filtered_data = df[df['Wartość']>10]\n",
    "print(f\"przefiltorwane dane:\\n\")\n",
    "print(filtered_data)"
   ],
   "execution_count":6,
   "outputs":[
    {
     "name":"stdout",
     "text":[
      "przefiltorwane dane:\n",
      "\n",
      "   ID Kategoria  Wartość  Liczba\n",
      "0   1         A       15     100\n",
      "1   2         B       25     150\n",
      "3   4         B       40     120\n",
      "4   5         C       30     110\n"
     ],
     "output_type":"stream"
    }
   ],
   "metadata":{
    "datalore":{
     "node_id":"N2eF5pamnob2zxR5QTXFNZ",
     "type":"CODE",
     "hide_input_from_viewers":true,
     "hide_output_from_viewers":true
    }
   }
  },
  {
   "cell_type":"code",
   "source":[
    "#grupowanie danych\n",
    "groupdata = df.groupby('Kategoria').mean()\n",
    "print(f\"pogrupowane dane:\\n\")\n",
    "print(groupdata)"
   ],
   "execution_count":8,
   "outputs":[
    {
     "name":"stdout",
     "text":[
      "pogrupowane dane:\n",
      "\n",
      "            ID  Wartość  Liczba\n",
      "Kategoria                      \n",
      "A          2.0     12.5    95.0\n",
      "B          3.0     32.5   135.0\n",
      "C          5.0     30.0   110.0\n"
     ],
     "output_type":"stream"
    }
   ],
   "metadata":{
    "datalore":{
     "node_id":"UakCLR4N3KOIDxudVMeegM",
     "type":"CODE",
     "hide_input_from_viewers":true,
     "hide_output_from_viewers":true
    }
   }
  },
  {
   "cell_type":"code",
   "source":[
    "# import numpy as np\n",
    "# filtered_data['exp_values'] = np.sum(filtered_data['Wartość'])"
   ],
   "execution_count":11,
   "outputs":[
    {
     "name":"stderr",
     "text":[
      "<ipython-input-11-c48368aa9bdc>:2: SettingWithCopyWarning: \n",
      "A value is trying to be set on a copy of a slice from a DataFrame.\n",
      "Try using .loc[row_indexer,col_indexer] = value instead\n",
      "\n",
      "See the caveats in the documentation: https:\/\/pandas.pydata.org\/pandas-docs\/stable\/user_guide\/indexing.html#returning-a-view-versus-a-copy\n",
      "  filtered_data['exp_values'] = np.sum(filtered_data['Wartość'])\n"
     ],
     "output_type":"stream"
    }
   ],
   "metadata":{
    "datalore":{
     "node_id":"2DEVnhHY2KaozbVXwP8Nqh",
     "type":"CODE",
     "hide_input_from_viewers":true,
     "hide_output_from_viewers":true
    }
   }
  }
 ],
 "metadata":{
  "kernelspec":{
   "display_name":"Python",
   "language":"python",
   "name":"python"
  },
  "datalore":{
   "computation_mode":"JUPYTER",
   "package_manager":"pip",
   "base_environment":"default",
   "packages":[],
   "report_row_ids":[],
   "version":3
  }
 },
 "nbformat":4,
 "nbformat_minor":4
}